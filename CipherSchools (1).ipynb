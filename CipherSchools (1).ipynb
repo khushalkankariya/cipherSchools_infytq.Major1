{
 "cells": [
  {
   "cell_type": "markdown",
   "id": "00ed79f3",
   "metadata": {},
   "source": [
    "**CipherSchool Assignment\n",
    "MAJOR ASSIGNMENT**"
   ]
  },
  {
   "cell_type": "markdown",
   "id": "c81a4edb",
   "metadata": {},
   "source": [
    "**Name: khushal kankariya**"
   ]
  },
  {
   "cell_type": "code",
   "execution_count": 23,
   "id": "e4a9c9a0",
   "metadata": {},
   "outputs": [
    {
     "name": "stdout",
     "output_type": "stream",
     "text": [
      "2 7 11 15\n",
      "9\n",
      "[0, 1]\n"
     ]
    }
   ],
   "source": [
    "# Input: nums = [2,7,11,15], target = 9\n",
    "# Output: [0,1]\n",
    "# Explanation: Because nums[0] + nums[1] == 9, we return [0, 1].\n",
    "num=(map(int,input().split()))\n",
    "num=list(num)\n",
    "target=int(input())\n",
    "sum=0\n",
    "for i in range(len(num)):\n",
    "    for j in range(i+1,len(num)):\n",
    "        sum=num[i]+num[j]\n",
    "        if sum==target:\n",
    "            print([i,j])\n",
    "            break\n",
    "\n",
    "\n",
    "        "
   ]
  },
  {
   "cell_type": "code",
   "execution_count": 25,
   "id": "57ba73b1",
   "metadata": {},
   "outputs": [
    {
     "name": "stdout",
     "output_type": "stream",
     "text": [
      "5\n",
      "harry\n",
      "37.21\n",
      "berry\n",
      "37.21\n",
      "tina\n",
      "37.2\n",
      "akriti\n",
      "41\n",
      "harsh\n",
      "39\n",
      "berry\n",
      "harry\n"
     ]
    }
   ],
   "source": [
    "N = int(input())\n",
    "\n",
    "students = []\n",
    "for i in range(2*N):\n",
    "    students.append(input().split())\n",
    "grades = {}\n",
    "for j in range(0, len(students), 2):\n",
    "    grades[students[j][0]] = float(students[j + 1][0])\n",
    "result = []\n",
    "num_to_match = sorted(set(grades.values()))[1]\n",
    "for k in grades.keys():\n",
    "    if grades[k] == num_to_match:\n",
    "        result.append(k)\n",
    "for k in sorted(result):\n",
    "    print( k)"
   ]
  },
  {
   "cell_type": "code",
   "execution_count": null,
   "id": "f6c241df",
   "metadata": {},
   "outputs": [],
   "source": []
  }
 ],
 "metadata": {
  "kernelspec": {
   "display_name": "Python 3",
   "language": "python",
   "name": "python3"
  },
  "language_info": {
   "codemirror_mode": {
    "name": "ipython",
    "version": 3
   },
   "file_extension": ".py",
   "mimetype": "text/x-python",
   "name": "python",
   "nbconvert_exporter": "python",
   "pygments_lexer": "ipython3",
   "version": "3.8.5"
  }
 },
 "nbformat": 4,
 "nbformat_minor": 5
}
