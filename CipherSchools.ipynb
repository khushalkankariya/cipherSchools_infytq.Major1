{
 "cells": [
  {
   "cell_type": "markdown",
   "id": "dd1e9940",
   "metadata": {},
   "source": [
    "**CipherSchool Assignment\n",
    "MAJOR ASSIGNMENT**"
   ]
  },
  {
   "cell_type": "code",
   "execution_count": 23,
   "id": "0c7613fc",
   "metadata": {},
   "outputs": [
    {
     "name": "stdout",
     "output_type": "stream",
     "text": [
      "2 7 11 15\n",
      "9\n",
      "[0, 1]\n"
     ]
    }
   ],
   "source": [
    "# Input: nums = [2,7,11,15], target = 9\n",
    "# Output: [0,1]\n",
    "# Explanation: Because nums[0] + nums[1] == 9, we return [0, 1].\n",
    "num=(map(int,input().split()))\n",
    "num=list(num)\n",
    "target=int(input())\n",
    "sum=0\n",
    "for i in range(len(num)):\n",
    "    for j in range(i+1,len(num)):\n",
    "        sum=num[i]+num[j]\n",
    "        if sum==target:\n",
    "            print([i,j])\n",
    "            break\n",
    "\n",
    "\n",
    "        "
   ]
  },
  {
   "cell_type": "code",
   "execution_count": null,
   "id": "59b460a2",
   "metadata": {},
   "outputs": [],
   "source": []
  }
 ],
 "metadata": {
  "kernelspec": {
   "display_name": "Python 3",
   "language": "python",
   "name": "python3"
  },
  "language_info": {
   "codemirror_mode": {
    "name": "ipython",
    "version": 3
   },
   "file_extension": ".py",
   "mimetype": "text/x-python",
   "name": "python",
   "nbconvert_exporter": "python",
   "pygments_lexer": "ipython3",
   "version": "3.8.5"
  }
 },
 "nbformat": 4,
 "nbformat_minor": 5
}
